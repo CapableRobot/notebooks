{
 "cells": [
  {
   "cell_type": "code",
   "execution_count": 65,
   "metadata": {},
   "outputs": [],
   "source": [
    "import os, sys, inspect\n",
    "import time\n",
    "\n",
    "lib_folder = os.path.join(os.path.split(inspect.getfile( inspect.currentframe() ))[0], 'CapableRobot_USBHub_Driver')\n",
    "lib_load = os.path.realpath(os.path.abspath(lib_folder))\n",
    "\n",
    "if lib_load not in sys.path:\n",
    "    sys.path.insert(0, lib_load)\n",
    "\n",
    "import capablerobot_usbhub \n",
    "\n",
    "SIM = False\n",
    "\n",
    "# hub = capablerobot_usbhub.USBHub()\n",
    "# hub.i2c.enable()\n",
    "\n",
    "try:\n",
    "    hub = capablerobot_usbhub.USBHub()\n",
    "    hub.i2c.enable()\n",
    "except ValueError:\n",
    "    SIM = True"
   ]
  },
  {
   "cell_type": "code",
   "execution_count": 66,
   "metadata": {},
   "outputs": [],
   "source": [
    "import time\n",
    "\n",
    "import paho.mqtt.client as mqtt\n",
    "import bqplot as bq\n",
    "import numpy as np\n",
    "import pandas as pd\n",
    "\n",
    "from IPython.display import display\n",
    "\n",
    "def live_plot(title, fields, x=\"\", y=\"\", ylimit=None, history=50):\n",
    "    global drop_count\n",
    "    drop_count=0\n",
    "    \n",
    "    x_sc = bq.LinearScale()\n",
    "    y_sc = bq.LinearScale()\n",
    "    \n",
    "    if ylimit is not None:\n",
    "        y_sc.min = ylimit[0]\n",
    "        y_sc.max = ylimit[1]\n",
    "\n",
    "    ax_x = bq.Axis(label=x, scale=x_sc, grid_lines='solid')\n",
    "    ax_y = bq.Axis(label=y, scale=y_sc, orientation='vertical', grid_lines='solid')\n",
    "\n",
    "    df = pd.DataFrame(columns=['time']+fields)\n",
    "        \n",
    "    pts = bq.Lines(x=df.index, y=[df[f].values for f in fields], display_legend=True, scales={'x': x_sc, 'y': y_sc})\n",
    "    fig = bq.Figure(axes=[ax_x, ax_y], marks=[pts], labels=fields, legend_location='top-left', title=title)\n",
    "    \n",
    "    def cb(data):\n",
    "        global drop_count\n",
    "        \n",
    "        if len(df) > history:\n",
    "            df.drop([drop_count], inplace=True)\n",
    "            drop_count += 1\n",
    "        \n",
    "        df.loc[len(df)+drop_count] = [time.time()] + data\n",
    "        \n",
    "        with pts.hold_sync():\n",
    "            pts.x = df.index \n",
    "            pts.y = [df[f] for f in fields]\n",
    "    \n",
    "    return fig, cb"
   ]
  },
  {
   "cell_type": "code",
   "execution_count": 67,
   "metadata": {},
   "outputs": [],
   "source": [
    "def print_currents():\n",
    "    last = int(time.time() * 1000)\n",
    "    \n",
    "    while True:\n",
    "        now = int(time.time() * 1000)\n",
    "        print(str(now - last).rjust(3), \" \".join([(\"%.2f\" % v).rjust(7) for v in hub.power.measurements()]))\n",
    "        last = now\n",
    "        time.sleep(0.5)"
   ]
  },
  {
   "cell_type": "code",
   "execution_count": 68,
   "metadata": {},
   "outputs": [
    {
     "data": {
      "application/vnd.jupyter.widget-view+json": {
       "model_id": "5cb9880529854ff3a466f6951f049db6",
       "version_major": 2,
       "version_minor": 0
      },
      "text/plain": [
       "Output()"
      ]
     },
     "metadata": {},
     "output_type": "display_data"
    }
   ],
   "source": [
    "import ipywidgets as widgets\n",
    "import copy\n",
    "import random\n",
    "\n",
    "out = widgets.Output()\n",
    "display(out)\n",
    "\n",
    "@out.capture()\n",
    "def power_change(change):\n",
    "    port = int(change['owner'].description.split(\" \")[1])\n",
    "    \n",
    "    if SIM:\n",
    "        if change['new']:\n",
    "            print(\"POWER ENABLE {}\".format(port))\n",
    "        else:\n",
    "            print(\"POWER DISABLE {}\".format(port))\n",
    "    else:\n",
    "        if change['new']:\n",
    "            hub.power.enable(ports=[port])\n",
    "        else:  \n",
    "            hub.power.disable(ports=[port])\n",
    "\n",
    "@out.capture()\n",
    "def data_change(change):\n",
    "    port = int(change['owner'].description.split(\" \")[1])\n",
    "    \n",
    "    if SIM:\n",
    "        if change['new']:\n",
    "            print(\"DATA ENABLE {}\".format(port))\n",
    "        else:\n",
    "            print(\"DATA DISABLE {}\".format(port))\n",
    "    else:\n",
    "        if change['new']:      \n",
    "            hub.data_enable(ports=[port])\n",
    "        else:  \n",
    "            hub.data_disable(ports=[port])\n",
    "\n",
    "def setup_ui():\n",
    "    power_buttons = []\n",
    "    data_buttons = []\n",
    "    \n",
    "    for idx in [1,2,3,4]:\n",
    "        label = \"Port {}\".format(idx)\n",
    "        \n",
    "        button = widgets.ToggleButton(description=label, disabled=False, value=True)\n",
    "        button.observe(power_change, names='value')\n",
    "        power_buttons.append(button)\n",
    "        \n",
    "        button = widgets.ToggleButton(description=label, disabled=False, value=True)\n",
    "        button.observe(data_change, names='value')\n",
    "        data_buttons.append(button)\n",
    "    \n",
    "    power_label = widgets.Label(value=\"Power\", layout=widgets.Layout(width='20%'))\n",
    "    power_row   = widgets.HBox([power_label]+power_buttons)\n",
    "    \n",
    "    data_label  = widgets.Label(value=\"Data\", layout=widgets.Layout(width='20%'))\n",
    "    data_row    = widgets.HBox([data_label]+data_buttons)\n",
    "    \n",
    "    display(widgets.VBox([data_row, power_row]))        \n",
    "    \n",
    "def graph_currents(do_stop):\n",
    "    fields = [\"1\", \"2\", \"3\", \"4\"]\n",
    "    lim = 1700\n",
    "    if SIM:\n",
    "        lim = 10\n",
    "    fig, cb = live_plot(\"Port Current\", fields, x=\"Time (sec)\", y=\"Current (mA)\", ylimit=[0,lim])\n",
    "\n",
    "    display(fig)\n",
    "    \n",
    "    while True:\n",
    "        try:\n",
    "            if SIM:\n",
    "                cb([random.random(),random.random(),random.random(),random.random()])\n",
    "            else:\n",
    "                cb(hub.power.measurements())\n",
    "        except USBError:\n",
    "            pass\n",
    "\n",
    "        time.sleep(0.2)\n",
    "        \n",
    "        if do_stop():\n",
    "            break"
   ]
  },
  {
   "cell_type": "code",
   "execution_count": 69,
   "metadata": {},
   "outputs": [
    {
     "data": {
      "application/vnd.jupyter.widget-view+json": {
       "model_id": "561c771a648e4ab0bd2427e7b23560d5",
       "version_major": 2,
       "version_minor": 0
      },
      "text/plain": [
       "VBox(children=(HBox(children=(Label(value='Data', layout=Layout(width='20%')), ToggleButton(value=True, descri…"
      ]
     },
     "metadata": {},
     "output_type": "display_data"
    },
    {
     "data": {
      "application/vnd.jupyter.widget-view+json": {
       "model_id": "c34b96806eaf4ee8b0f573672841f95d",
       "version_major": 2,
       "version_minor": 0
      },
      "text/plain": [
       "Figure(axes=[Axis(label='Time (sec)', scale=LinearScale()), Axis(label='Current (mA)', orientation='vertical',…"
      ]
     },
     "metadata": {},
     "output_type": "display_data"
    }
   ],
   "source": [
    "# print_currents()\n",
    "\n",
    "setup_ui()\n",
    "\n",
    "stop_threads = False\n",
    "\n",
    "def stop():\n",
    "    global stop_threads\n",
    "    stop_threads = True\n",
    "\n",
    "## Graphing must be done in a thread, if done in the main loop\n",
    "## it will block event observation of the UI buttons\n",
    "import threading\n",
    "thread = threading.Thread(target=graph_currents, args=(lambda: stop_threads, ))\n",
    "thread.start()"
   ]
  },
  {
   "cell_type": "code",
   "execution_count": 71,
   "metadata": {},
   "outputs": [],
   "source": [
    "# stop()"
   ]
  },
  {
   "cell_type": "code",
   "execution_count": null,
   "metadata": {},
   "outputs": [],
   "source": []
  }
 ],
 "metadata": {
  "kernelspec": {
   "display_name": "py_37_env",
   "language": "python",
   "name": "py_37_env"
  },
  "language_info": {
   "codemirror_mode": {
    "name": "ipython",
    "version": 3
   },
   "file_extension": ".py",
   "mimetype": "text/x-python",
   "name": "python",
   "nbconvert_exporter": "python",
   "pygments_lexer": "ipython3",
   "version": "3.7.3"
  }
 },
 "nbformat": 4,
 "nbformat_minor": 2
}
