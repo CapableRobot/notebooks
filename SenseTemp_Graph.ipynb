{
 "cells": [
  {
   "cell_type": "code",
   "execution_count": 1,
   "metadata": {},
   "outputs": [],
   "source": [
    "import time\n",
    "\n",
    "import paho.mqtt.client as mqtt\n",
    "import bqplot as bq\n",
    "import numpy as np\n",
    "import pandas as pd\n",
    "\n",
    "from IPython.display import display"
   ]
  },
  {
   "cell_type": "code",
   "execution_count": 10,
   "metadata": {},
   "outputs": [],
   "source": [
    "def live_plot(title, fields, x=\"\", y=\"\", history=30):\n",
    "    global drop_count\n",
    "    drop_count=0\n",
    "    \n",
    "    x_sc = bq.LinearScale()\n",
    "    y_sc = bq.LinearScale()\n",
    "\n",
    "    ax_x = bq.Axis(label=x, scale=x_sc, grid_lines='solid')\n",
    "    ax_y = bq.Axis(label=y, scale=y_sc, orientation='vertical', grid_lines='solid')\n",
    "\n",
    "    df = pd.DataFrame(columns=['time']+fields)\n",
    "        \n",
    "    pts = bq.Lines(x=df.index, y=[df[f].values for f in fields], display_legend=True, scales={'x': x_sc, 'y': y_sc})\n",
    "    fig = bq.Figure(axes=[ax_x, ax_y], marks=[pts], labels=fields, legend_location='top-left', title=title)\n",
    "    \n",
    "    def cb(data):\n",
    "        global drop_count\n",
    "        \n",
    "        if len(df) > history:\n",
    "            df.drop([drop_count], inplace=True)\n",
    "            drop_count += 1\n",
    "        \n",
    "        df.loc[len(df)+drop_count] = [time.time()] + data\n",
    "        \n",
    "        with pts.hold_sync():\n",
    "            pts.x = df.index \n",
    "            pts.y = [df[f] for f in fields]\n",
    "    \n",
    "    return fig, cb"
   ]
  },
  {
   "cell_type": "code",
   "execution_count": 11,
   "metadata": {},
   "outputs": [
    {
     "data": {
      "application/vnd.jupyter.widget-view+json": {
       "model_id": "9d807e85fdab457c9b5da5bb02bd001f",
       "version_major": 2,
       "version_minor": 0
      },
      "text/plain": [
       "Figure(axes=[Axis(label='Time (sec)', scale=LinearScale()), Axis(label='Temperature (C)', orientation='vertica…"
      ]
     },
     "metadata": {},
     "output_type": "display_data"
    }
   ],
   "source": [
    "import serial \n",
    "import json\n",
    "\n",
    "device = serial.Serial(\"/dev/cu.usbmodem1411\", baudrate=115200)\n",
    "\n",
    "fields = [\"CH1\", \"CH2\", \"CH3\", \"CH4\"]\n",
    "fig, cb = live_plot(\"SenseTemp Temperatures\", fields, x=\"Time (sec)\", y=\"Temperature (C)\")\n",
    "\n",
    "def poll():\n",
    "    row = device.readline().decode('UTF-8')\n",
    "    if row[0] == \"[\":\n",
    "        cb(json.loads(row))\n",
    "\n",
    "display(fig)\n",
    "\n",
    "while True:\n",
    "    poll()"
   ]
  }
 ],
 "metadata": {
  "kernelspec": {
   "display_name": "py_37_env",
   "language": "python",
   "name": "py_37_env"
  },
  "language_info": {
   "codemirror_mode": {
    "name": "ipython",
    "version": 3
   },
   "file_extension": ".py",
   "mimetype": "text/x-python",
   "name": "python",
   "nbconvert_exporter": "python",
   "pygments_lexer": "ipython3",
   "version": "3.7.3"
  }
 },
 "nbformat": 4,
 "nbformat_minor": 2
}
