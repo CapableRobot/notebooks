{
 "cells": [
  {
   "cell_type": "code",
   "execution_count": 1,
   "metadata": {
    "inputHidden": false,
    "outputHidden": false,
    "slideshow": {
     "slide_type": "-"
    }
   },
   "outputs": [],
   "source": [
    "import math\n",
    "import bisect\n",
    "\n",
    "import pint\n",
    "import matplotlib.pyplot as plt\n",
    "import numpy as np\n",
    "import sympy\n",
    "\n",
    "ureg = pint.UnitRegistry()\n",
    "ureg.default_format = '.2f'\n",
    "\n",
    "## Solves an expression for any variable within it\n",
    "## Evaluates the expression (in the current context) with a unit coversion\n",
    "def solve(exp, variable, unit):\n",
    "    # Convert from string expression to symbol one    \n",
    "    # Solve the equaltion for the desired variable and convert to string\n",
    "    # Evaluate the expression string with the desired unit conversion\n",
    "    exp = sympy.sympify(exp)\n",
    "    exp = sympy.sstr(sympy.solve(exp, variable)[0])\n",
    "    return eval(\"(\" + exp + \").to(ureg.\" + unit + \")\")\n",
    "\n",
    "## Values for each decade of 1% resistors\n",
    "RESISTOR_DECADE = [\n",
    "    10.0, 10.2, 10.5, 10.7, 11.0, 11.3, 11.5, 11.8, 12.1, 12.4, 12.7, 13.0, 13.3, 13.7, 14.0, 14.3, \n",
    "    14.7, 15.0, 15.4, 15.8, 16.2, 16.5, 16.9, 17.4, 17.8, 18.2, 18.7, 19.1, 19.6, 20.0, 20.5, 21.0,\n",
    "    21.5, 22.1, 22.6, 23.2, 23.7, 24.3, 24.9, 25.5, 26.1, 26.7, 27.4, 28.0, 28.7, 29.4, 30.1, 30.9,\n",
    "    31.6, 32.4, 33.2, 34.0, 34.8, 35.7, 36.5, 37.4, 38.3, 39.2, 40.2, 41.2, 42.2, 43.2, 44.2, 45.2,\n",
    "    46.4, 47.5, 48.7, 49.9, 51.1, 52.3, 53.6, 54.9, 56.2, 57.6, 59.0, 60.4, 61.9, 63.4, 64.9, 66.5,\n",
    "    68.1, 69.8, 71.5, 73.2, 75.0, 76.8, 78.7, 80.6, 82.5, 84.5, 86.6, 88.7, 90.9, 93.1, 95.3, 97.6\n",
    "]\n",
    "\n",
    "## Generate a list of all 1% resistor values\n",
    "RESISTOR_DECADES = [1, 10, 100, 1000, 10000, 100000, 1000000]\n",
    "RESISTOR_VALUES  = sum([[val*idx for val in RESISTOR_DECADE] for idx in RESISTOR_DECADES], [])\n",
    "\n",
    "## Binary search through resistor values for the nearest value\n",
    "def select_resistor(value):\n",
    "    idx = bisect.bisect_left(RESISTOR_VALUES, value.to(ureg.Ω).magnitude)\n",
    "    return RESISTOR_VALUES[idx]"
   ]
  },
  {
   "cell_type": "markdown",
   "metadata": {},
   "source": [
    "## USB Hub System Definitions"
   ]
  },
  {
   "cell_type": "code",
   "execution_count": 2,
   "metadata": {
    "inputHidden": false,
    "outputHidden": false
   },
   "outputs": [],
   "source": [
    "Vinmax = 24 * ureg.V\n",
    "Vinmin = 12 * ureg.V\n",
    "Vout = 5 * ureg.V\n",
    "Ilim = 5.95 * ureg.A\n",
    "\n",
    "## Resistor divider determines operating frequency\n",
    "## Rup is between FREQ and VIN, Rdn is to GND\n",
    "## If FREQ connected to VIN (without a pull down resistor) then fsw will be 600 kHz\n",
    "\n",
    "# Rup = 100 * ureg.kΩ # Recommended value from datasheet\n",
    "# Rdn = 1000 * ureg.kΩ\n",
    "Rdn = False"
   ]
  },
  {
   "cell_type": "markdown",
   "metadata": {},
   "source": [
    "## MIC45208 Device Properties\n",
    "\n",
    "#### Switching Frequency\n",
    "\n",
    "![](./image-fsw.png)"
   ]
  },
  {
   "cell_type": "code",
   "execution_count": 3,
   "metadata": {},
   "outputs": [],
   "source": [
    "## Calculate switching frequency from Rup & Rdn\n",
    "if Rdn == False:\n",
    "    fsw = 600 * ureg.kHz\n",
    "else:\n",
    "    fsw = 600 * ureg.kHz * Rdn / (Rup + Rdn)\n",
    "\n",
    "## Device Properties (from datasheet)\n",
    "L     = 1.0 * ureg.uH    # Inductor is integrated into the package\n",
    "Rdson = 16 * ureg.mΩ     # On-resistance of low-side power MOSFET\n",
    "Icl   = 70 * ureg.uA     # Current-limit source current\n",
    "Vcloffset = 14 * ureg.mV # Current-limit threshold\n",
    "Toffmin = 200 * ureg.ns  # Minimum off time"
   ]
  },
  {
   "cell_type": "markdown",
   "metadata": {},
   "source": [
    "## Calculations of duty cycle @ different operating voltages"
   ]
  },
  {
   "cell_type": "code",
   "execution_count": 4,
   "metadata": {
    "inputHidden": false,
    "outputHidden": false
   },
   "outputs": [
    {
     "name": "stdout",
     "output_type": "stream",
     "text": [
      "FSW       : 600.00 kilohertz\n",
      "Duty(max) : 0.88 dimensionless\n",
      "Toff(min) : 200.00 nanosecond\n",
      "\n",
      "-- VIN 6.00 volt --\n",
      "   Ton  : 1388.89 nanosecond\n",
      "   Toff : 277.78 nanosecond\n",
      "   Duty : 0.83 dimensionless\n",
      "\n",
      "-- VIN 12.00 volt --\n",
      "   Ton  : 694.44 nanosecond\n",
      "   Toff : 972.22 nanosecond\n",
      "   Duty : 0.42 dimensionless\n",
      "\n",
      "-- VIN 24.00 volt --\n",
      "   Ton  : 347.22 nanosecond\n",
      "   Toff : 1319.44 nanosecond\n",
      "   Duty : 0.21 dimensionless\n"
     ]
    }
   ],
   "source": [
    "Ton = lambda Vop: (Vout / (Vop*fsw)).to(ureg.ns)\n",
    "Tonmin = Ton(Vinmax)\n",
    "Tonmax = Ton(Vinmin)\n",
    "Ts     = (1/fsw).to(ureg.ns)\n",
    "Dmax   = (Ts - Toffmin) / Ts\n",
    "\n",
    "print(\"FSW       :\", fsw.to(ureg.kHz))\n",
    "print(\"Duty(max) :\", Dmax)\n",
    "print(\"Toff(min) :\", Toffmin.to(ureg.ns))\n",
    "\n",
    "for Vop in [Vinmin/2, Vinmin, Vinmax]:\n",
    "    Toff = Ts - Ton(Vop)\n",
    "    D = Ton(Vop) / Ts\n",
    "    print()\n",
    "    print(\"-- VIN\", Vop, \"--\")\n",
    "    print(\"   Ton  :\", Ton(Vop))\n",
    "    print(\"   Toff :\", Toff)\n",
    "    print(\"   Duty :\", D)\n",
    "    \n",
    "    if Toff < Toffmin*1.25:\n",
    "        print(\"   WARN : Toff close to or lower than Toffmin\")\n",
    "        \n",
    "    if D > min(0.85, Dmax):\n",
    "        print(\"   WARN : Tudy cycle exceeds specification max\")"
   ]
  },
  {
   "cell_type": "markdown",
   "metadata": {},
   "source": [
    "## Component Selection\n",
    "### Current Limit Resistor\n",
    "\n",
    "Based on desired current limit and other operating points (inductor peak to peak current, MOSFET resistance, etc) the current limiting resistor between SW and ILIM is determined.\n",
    "\n",
    "The MOSFET RDS(ON) varies 30% to 40% with temperature; therefore, it is recommended to add a 50% margin to ILIM to avoid false current limiting due to increased MOSFET junction temperature rise.  After finding the ideal Rlimit values, we contrain it to actual resistor values and calculate the resutling current limit."
   ]
  },
  {
   "cell_type": "code",
   "execution_count": 5,
   "metadata": {
    "inputHidden": false,
    "outputHidden": false
   },
   "outputs": [
    {
     "name": "stdout",
     "output_type": "stream",
     "text": [
      "Inductor peak to peak : 6.60 ampere\n",
      "Rlimit : changing from  1486.03 ohm to 1500.00 ohm\n",
      "Ilimit : 5.99 ampere\n",
      "Ilimit TC : 22.50 nanosecond\n"
     ]
    }
   ],
   "source": [
    "ILpp = Vout * (Vinmax - Vout) / (Vinmax * fsw * L)\n",
    "print(\"Inductor peak to peak :\", ILpp.to(ureg.A))\n",
    "\n",
    "exp = \"((Ilim*1.5 - ILpp/2.0)*Rdson + Vcloffset)/Icl - Rlimit\"\n",
    "\n",
    "Rlimitideal = solve(exp, variable='Rlimit', unit='Ω')\n",
    "Rlimit = (select_resistor(Rlimitideal) * ureg.Ω).to(ureg.kΩ)\n",
    "\n",
    "if Rlimit != Rlimitideal:\n",
    "    print(\"Rlimit : changing from \", Rlimitideal.to(ureg.Ω), \"to\", Rlimit.to(ureg.Ω))\n",
    "else:\n",
    "    print(\"Rlimit :\", Rlimit)\n",
    "    \n",
    "Ilimactual = solve(exp, variable='Ilim', unit='A')\n",
    "print(\"Ilimit :\", Ilimactual)\n",
    "\n",
    "# Climit value copied from EVM design guide\n",
    "Climit = 15 * ureg.pF\n",
    "tc = Rlimit * Climit\n",
    "print(\"Ilimit TC :\", tc.to(ureg.ns))\n",
    "\n",
    "if tc > Toffmin * 0.2:\n",
    "    print(\"WARN : Current limit time constant too close to minimum off time\")"
   ]
  },
  {
   "cell_type": "markdown",
   "metadata": {},
   "source": [
    "### Input Capacitor Selection"
   ]
  },
  {
   "cell_type": "code",
   "execution_count": 6,
   "metadata": {
    "collapsed": false,
    "inputHidden": false,
    "outputHidden": false
   },
   "outputs": [
    {
     "name": "stdout",
     "output_type": "stream",
     "text": [
      "Cinsum: 33.00 microfarad\n",
      "\n",
      "Vin @ 12.00 volt\n",
      "Cin \n",
      "  dV    : 142.43 millivolt\n",
      "  req   : 40.61 microfarad\n",
      "  I rms : 2.93 ampere\n",
      "  P rms : 0.25 watt\n",
      "\n",
      "Vin @ 24.00 volt\n",
      "Cin \n",
      "  dV    : 193.30 millivolt\n",
      "  req   : 40.61 microfarad\n",
      "  I rms : 2.42 ampere\n",
      "  P rms : 0.17 watt\n"
     ]
    }
   ],
   "source": [
    "## Build dict of [Value, ESR, Impedance] of caps at 12v\n",
    "CAPS = {}\n",
    "CAPS[\"0805_1u0\"] = [ 1.0*ureg.uF, 18.6, 288.0] ## C0805C105K5RAC\n",
    "CAPS[\"1206_4u7\"] = [ 4.7*ureg.uF, 13.1,  62.3] ## C1206C475K5PAC\n",
    "CAPS[\"2917_33u\"] = [33.0*ureg.uF, 29.3,  29.8] ## T521D336M035ATE065\n",
    "\n",
    "Cins = [\"2917_33u\"]\n",
    "# Cins = [\"1206_4u7\", \"1206_4u7\", \"0805_1u0\"] + [\"2917_33u\", \"2917_33u\"]\n",
    "\n",
    "f = fsw\n",
    "\n",
    "Zsum = 0\n",
    "Ceff = 0\n",
    "\n",
    "for key in Cins:\n",
    "    cap = CAPS[key]\n",
    "    \n",
    "    Ceff += cap[0]\n",
    "    esr   = cap[1]*ureg.mΩ\n",
    "    imp   = cap[2]*ureg.mΩ * -1j\n",
    "    \n",
    "    ## Impedance for an idea cap. This is not accurate as bias voltage increases.\n",
    "    ## Therefore, we use ESR from the SKU datasheets at 12v (listed above). \n",
    "    # imp = (-1j / (2*math.pi*f*cap[0])).to(ureg.mΩ)\n",
    "    \n",
    "    Zsum += 1/(esr + imp)    \n",
    "\n",
    "ESRCin = (1 / Zsum).real\n",
    "Cinsum = Ceff.to(ureg.uF)\n",
    "\n",
    "print(\"Cinsum:\", Cinsum)\n",
    "\n",
    "## Current increases with duty cycle, so calculate at VIN = 12\n",
    "## Load on cap increases as duty cycle drops, so calculate at VIN = 24\n",
    "for vin in [Vinmin, Vinmax]:\n",
    "    D = Ton(vin) / Ts\n",
    "    Icinrms = Ilim * math.sqrt(D*(1-D))\n",
    "\n",
    "    ## Inductor current changes as vin does, so we need to recalculate it\n",
    "    ILpp = Vout * (vin - Vout) / (vin * fsw * L)\n",
    "    \n",
    "    ## These require knowing the ESR of the input caps\n",
    "    dVin = ILpp * ESRCin\n",
    "    Cinreq = Ilim * (1-D) / (fsw * dVin)\n",
    "    Pcinrms = Icinrms**2 * ESRCin\n",
    "\n",
    "    print()\n",
    "    print(\"Vin @ {}\".format(vin))\n",
    "    print(\"Cin \")\n",
    "    print(\"  dV    :\", dVin.to(ureg.mV))\n",
    "    print(\"  req   :\", Cinreq.to(ureg.uF))\n",
    "    print(\"  I rms :\", Icinrms)\n",
    "    print(\"  P rms :\", Pcinrms.to(ureg.W))\n"
   ]
  },
  {
   "cell_type": "markdown",
   "metadata": {},
   "source": [
    "### Output Voltage Setting Components\n",
    "\n",
    "A typical value of RFB1 used on the standard evaluation board is 10 kΩ. If R1 is too large, it may allow noise to be introduced into the voltage feedback loop. If RFB1 is too small in value, it will decrease the efficiency of the power supply, especially at light loads. Once RFB1 is selected, RFB2 can be calculated."
   ]
  },
  {
   "cell_type": "code",
   "execution_count": 7,
   "metadata": {
    "inputHidden": false,
    "outputHidden": false
   },
   "outputs": [
    {
     "name": "stdout",
     "output_type": "stream",
     "text": [
      "RFB2 : changing from  1860.47 ohm to 1870.00 ohm\n",
      "Vout : changing from  5.10 volt to 5.08 volt\n"
     ]
    }
   ],
   "source": [
    "Vfb  = 0.8 * ureg.V\n",
    "RFB1 = 10 * ureg.kΩ\n",
    "\n",
    "# Boost 5v output a bit to compenstate for loss in downstream cabling\n",
    "Vout = Vout * 1.02\n",
    "\n",
    "RFB2ideal = Vfb * RFB1 / (Vout - Vfb)\n",
    "RFB2 = (select_resistor(RFB2ideal) * ureg.Ω).to(ureg.kΩ)\n",
    "\n",
    "if RFB2ideal != RFB2:\n",
    "    print(\"RFB2 : changing from \", RFB2ideal.to(ureg.Ω), \"to\", RFB2.to(ureg.Ω))\n",
    "else:\n",
    "    print(\"RFB2 :\", RFB2)\n",
    "    \n",
    "Voutactual = Vfb * (1+ RFB1/RFB2)\n",
    "print(\"Vout : changing from \", Vout, \"to\", Voutactual)"
   ]
  }
 ],
 "metadata": {
  "jupytext_formats": "ipynb,py",
  "kernel_info": {
   "name": "python3"
  },
  "kernelspec": {
   "display_name": "py_37_env",
   "language": "python",
   "name": "py_37_env"
  },
  "language_info": {
   "codemirror_mode": {
    "name": "ipython",
    "version": 3
   },
   "file_extension": ".py",
   "mimetype": "text/x-python",
   "name": "python",
   "nbconvert_exporter": "python",
   "pygments_lexer": "ipython3",
   "version": "3.7.3"
  },
  "nteract": {
   "version": "0.12.3"
  }
 },
 "nbformat": 4,
 "nbformat_minor": 4
}
